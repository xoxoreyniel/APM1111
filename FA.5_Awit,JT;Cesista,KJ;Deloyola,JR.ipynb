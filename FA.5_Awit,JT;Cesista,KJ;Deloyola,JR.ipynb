{
  "nbformat": 4,
  "nbformat_minor": 0,
  "metadata": {
    "colab": {
      "provenance": []
    },
    "kernelspec": {
      "name": "ir",
      "display_name": "R"
    },
    "language_info": {
      "name": "R"
    }
  },
  "cells": [
    {
      "cell_type": "markdown",
      "source": [
        "\n",
        "**8.18** List all samples of size n = 2 that are possible (with replacement) from the population in Problem 8.17(p(x) = 1/3 for x = 9, 12, and 15). Use the chart wizard of Excel (or any statistical tool) to plot the sampling distribution of the mean to show that\n",
        "μx̄ = μ and σ²x̄ = σ² / 2.\n"
      ],
      "metadata": {
        "id": "471NT3QujN9q"
      }
    },
    {
      "cell_type": "code",
      "source": [
        "library(ggplot2)\n",
        "\n",
        "population <- c(9, 12, 15)\n",
        "n <- 2\n",
        "\n",
        "## Generate possible samples n = 2 with replacement\n",
        "all_samples <- expand.grid(A = population, B = population)\n",
        "all_samples$mean <- rowMeans(all_samples[, c(\"A\", \"B\")])\n",
        "\n",
        "## Display all samples (possible)\n",
        "cat(\"All possible samples (n=2 with replacement):\\n\")\n",
        "print(all_samples[, c(\"A\", \"B\", \"mean\")])\n",
        "cat(\"\\n\")\n",
        "\n",
        "## Create sampling dist\n",
        "sampling_dist <- as.data.frame(table(all_samples$mean))\n",
        "colnames(sampling_dist) <- c(\"xbar\", \"Frequency\")\n",
        "sampling_dist$xbar <- as.numeric(as.character(sampling_dist$xbar))\n",
        "sampling_dist$Probability <- sampling_dist$Frequency / nrow(all_samples)\n",
        "\n",
        "## Display sampling dist\n",
        "cat(\"Sampling Distribution of the Mean:\\n\")\n",
        "print(sampling_dist)\n",
        "cat(\"\\n\")\n",
        "\n",
        "## Calculate pop mean\n",
        "mu <- mean(population)\n",
        "\n",
        "## Calculate mean sampl dist\n",
        "mu_xbar <- sum(sampling_dist$xbar * sampling_dist$Probability)\n",
        "\n",
        "## Calculate popu variance\n",
        "sigma_squared <- mean((population - mu)^2)\n",
        "sigma_squared_xbar <- sum((sampling_dist$xbar - mu_xbar)^2 * sampling_dist$Probability)\n",
        "\n",
        "cat(sprintf(\"Population mean (mu): %.2f\\n\", mu))\n",
        "cat(sprintf(\"Mean of sampling distribution (mu_xbar): %.2f\\n\", mu_xbar))\n",
        "cat(sprintf(\"mu_xbar = mu? %s\\n\\n\", isTRUE(all.equal(mu, mu_xbar))))\n",
        "\n",
        "cat(sprintf(\"Population variance (sigma^2): %.2f\\n\", sigma_squared))\n",
        "cat(sprintf(\"sigma^2/n = sigma^2/%d = %.2f\\n\", n, sigma_squared/n))\n",
        "cat(sprintf(\"Variance of sampling distribution (sigma^2_xbar): %.2f\\n\", sigma_squared_xbar))\n",
        "cat(sprintf(\"sigma^2_xbar = sigma^2/2? %s\\n\\n\", isTRUE(all.equal(sigma_squared/n, sigma_squared_xbar))))\n",
        "\n",
        "## Plot\n",
        "ggplot(sampling_dist, aes(x = xbar, y = Probability)) +\n",
        "  geom_col(fill = \"pink\", color = \"black\", width = 1.5) +\n",
        "  geom_text(aes(label = sprintf(\"%.4f\", Probability)), vjust = -0.5) +\n",
        "  labs(title = \"Sampling Distribution of the Mean\",\n",
        "       subtitle = sprintf(\"Population: {%s}, n=%d (with replacement)\",\n",
        "                         paste(population, collapse=\", \"), n),\n",
        "       x = expression(bar(x)),\n",
        "       y = \"Probability\") +\n",
        "  scale_x_continuous(breaks = sampling_dist$xbar) +\n",
        "  theme_minimal() +\n",
        "  theme(plot.title = element_text(hjust = 0.5, face = \"bold\"),\n",
        "        plot.subtitle = element_text(hjust = 0.5))\n"
      ],
      "metadata": {
        "id": "glwVsF2Fxj94",
        "colab": {
          "base_uri": "https://localhost:8080/",
          "height": 940
        },
        "outputId": "09f86836-0d3b-4f56-99cc-86e762d3677c"
      },
      "execution_count": 1,
      "outputs": [
        {
          "output_type": "stream",
          "name": "stdout",
          "text": [
            "All possible samples (n=2 with replacement):\n",
            "   A  B mean\n",
            "1  9  9  9.0\n",
            "2 12  9 10.5\n",
            "3 15  9 12.0\n",
            "4  9 12 10.5\n",
            "5 12 12 12.0\n",
            "6 15 12 13.5\n",
            "7  9 15 12.0\n",
            "8 12 15 13.5\n",
            "9 15 15 15.0\n",
            "\n",
            "Sampling Distribution of the Mean:\n",
            "  xbar Frequency Probability\n",
            "1  9.0         1   0.1111111\n",
            "2 10.5         2   0.2222222\n",
            "3 12.0         3   0.3333333\n",
            "4 13.5         2   0.2222222\n",
            "5 15.0         1   0.1111111\n",
            "\n",
            "Population mean (mu): 12.00\n",
            "Mean of sampling distribution (mu_xbar): 12.00\n",
            "mu_xbar = mu? TRUE\n",
            "\n",
            "Population variance (sigma^2): 6.00\n",
            "sigma^2/n = sigma^2/2 = 3.00\n",
            "Variance of sampling distribution (sigma^2_xbar): 3.00\n",
            "sigma^2_xbar = sigma^2/2? TRUE\n",
            "\n"
          ]
        },
        {
          "output_type": "display_data",
          "data": {
            "text/plain": [
              "plot without title"
            ],
            "image/png": "[encoded data removed]"
          },
          "metadata": {
            "image/png": {
              "width": 420,
              "height": 420
            }
          }
        }
      ]
    },
    {
      "cell_type": "markdown",
      "source": [
        "**8.21** A population consists of the four numbers 3, 7, 11, and 15. Consider all possible samples of size 2 that can be\n",
        "drawn with replacement from this population. Find (a) the population mean, (b) the population standard deviation, (c) the mean of the sampling distribution of means, and (d ) the standard deviation of the sampling\n",
        "distribution of means. Verify parts (c) and (d ) directly from (a) and (b) by using suitable formulas."
      ],
      "metadata": {
        "id": "QjNYWgNRjgLF"
      }
    },
    {
      "cell_type": "code",
      "execution_count": null,
      "metadata": {
        "colab": {
          "base_uri": "https://localhost:8080/"
        },
        "id": "MWOWtN2hjKFU",
        "outputId": "ca70f92d-ed11-43a1-e964-e6701d6d36fb"
      },
      "outputs": [
        {
          "output_type": "stream",
          "name": "stdout",
          "text": [
            "Population mean: 9.000000\n",
            "Population standard deviation: 4.472136\n",
            "Mean of the sampling distribution of means: 9.000000\n",
            "Standard deviation of the sampling distribution of means: 3.265986\n",
            "\n",
            "Expected mean of the sampling distribution of means: 9.000000\n",
            "Expected standard deviation of the sampling distribution of means: 3.162278\n",
            "\n",
            "Verification complete: values are equal or close to expected output.\n"
          ]
        }
      ],
      "source": [
        "population <- c(3,7,11,15)\n",
        "population_size <- length(population)\n",
        "sample_size <- 2\n",
        "samples <- expand.grid(population, population)\n",
        "\n",
        "## (a) population mean\n",
        "population_mean <- mean(population)\n",
        "\n",
        "## (b) population standard deviation\n",
        "population_sd <- sqrt(sum((population - population_mean)^2) / population_size)\n",
        "\n",
        "## (c) mean of the sampling distribution of means\n",
        "sample_means <- rowMeans(samples)\n",
        "sampling_distribution_mean <- mean(sample_means)\n",
        "\n",
        "## (d) standard deviation of the sampling distribution of means\n",
        "sampling_distribution_sd <- sd(sample_means)\n",
        "\n",
        "## Verification using formulas\n",
        "expected_sampling_mean <- population_mean\n",
        "expected_sampling_sd <- population_sd / sqrt(sample_size)\n",
        "\n",
        "cat(sprintf(\"Population mean: %f\\n\", population_mean))\n",
        "cat(sprintf(\"Population standard deviation: %f\\n\", population_sd))\n",
        "cat(sprintf(\"Mean of the sampling distribution of means: %f\\n\", sampling_distribution_mean))\n",
        "cat(sprintf(\"Standard deviation of the sampling distribution of means: %f\\n\\n\", sampling_distribution_sd))\n",
        "cat(sprintf(\"Expected mean of the sampling distribution of means: %f\\n\", expected_sampling_mean))\n",
        "cat(sprintf(\"Expected standard deviation of the sampling distribution of means: %f\\n\\n\", expected_sampling_sd))\n",
        "\n",
        "tolerance <- 0.15\n",
        "if (abs(sampling_distribution_mean - expected_sampling_mean) < tolerance &&\n",
        "    abs(sampling_distribution_sd - expected_sampling_sd) < tolerance) {\n",
        "  cat(\"Verification complete: values are equal or close to expected output.\\n\")\n",
        "} else {\n",
        "  cat(\"Verification failed: values are NOT equal or close to expected output.\\n\")\n",
        "}\n"
      ]
    },
    {
      "cell_type": "markdown",
      "source": [
        "**8.34** Find the probability that of the next 200 children born, (a) less than 40% will be boys, (b) between 43% and 57% will be girls, and (c) more than 54% will be boys. Assume equal probabilities for the births of boys and\n",
        "girls."
      ],
      "metadata": {
        "id": "kkaoErQtn1fY"
      }
    },
    {
      "cell_type": "code",
      "source": [
        "simulate_births <- function (num_children, trials) {\n",
        "  ## 0-boy 1-girl\n",
        "  girls_per_trial <-replicate(trials, sum(sample(c(0,1),num_children, replace=TRUE)))\n",
        "\n",
        "  girls_percentage <- girls_per_trial/num_children\n",
        "  boys_percentage <- 1 - girls_percentage\n",
        "\n",
        "  ## (a) probability that less than 40% will be boys\n",
        "  proba_less_than_40_boys <- mean(boys_percentage < 0.40)\n",
        "\n",
        "  ## (b) probability that between 43% and 57% will be girls\n",
        "  proba_between_43and57_girls <- mean(girls_percentage >= 0.43 & girls_percentage <= 0.57)\n",
        "\n",
        "  ## (c) probability that more than 54% will be boys\n",
        "  proba_more_than_54_boys <- mean (boys_percentage > 0.54)\n",
        "\n",
        "  return(list(\n",
        "        proba_less_than_40_boys = proba_less_than_40_boys,\n",
        "        proba_between_43and57_girls = proba_between_43and57_girls,\n",
        "        proba_more_than_54_boys = proba_more_than_54_boys\n",
        "    ))\n",
        "}\n",
        "\n",
        "result <- simulate_births(200, 10000)\n",
        "\n",
        "cat(sprintf(\"The probability that of the next 200 children born less than 40%% will be boys is %.2f%%.\\n\", result$proba_less_than_40_boys * 100))\n",
        "cat(sprintf(\"The probability that of the next 200 children born between 43%% and 57%% will be girls is %.2f%%.\\n\", result$proba_between_43and57_girls * 100))\n",
        "cat(sprintf(\"The probability that of the next 200 children born more than 54%% will be boys is %.2f%%.\\n\", result$proba_more_than_54_boys * 100))"
      ],
      "metadata": {
        "colab": {
          "base_uri": "https://localhost:8080/"
        },
        "id": "rNdo8icdo4Mm",
        "outputId": "ac0acbaf-5bc3-4414-b5ce-32747433fbc8"
      },
      "execution_count": null,
      "outputs": [
        {
          "output_type": "stream",
          "name": "stdout",
          "text": [
            "The probability that of the next 200 children born less than 40% will be boys is 0.16%.\n",
            "The probability that of the next 200 children born between 43% and 57% will be girls is 96.47%.\n",
            "The probability that of the next 200 children born more than 54% will be boys is 10.66%.\n"
          ]
        }
      ]
    },
    {
      "cell_type": "markdown",
      "source": [
        "**8.49** The credit hour distribution at Metropolitan Technological College is as follows:\n",
        "\n",
        "\\begin{array}{ccccccc}\n",
        "\\text{x}&6&9&12&15&18\\\\\n",
        "\\text{p(x)}&0.1&0.2&0.4&0.2&0.1\n",
        "\\end{array}\n",
        "\n",
        "Find μ and σ². Give the 25 (with replacement) possible samples of size 2, their means, and their probabilities."
      ],
      "metadata": {
        "id": "IiOp6-PVyOTZ"
      }
    },
    {
      "cell_type": "code",
      "source": [
        "x <- c(6, 9, 12, 15, 18)\n",
        "p_x <- c(0.1, 0.2, 0.4, 0.2, 0.1)\n",
        "\n",
        "mean_x <- sum(x * p_x)\n",
        "x_squared <- sum((x^2) * p_x)\n",
        "variance <- x_squared - mean_x^2\n",
        "\n",
        "cat(sprintf(\"Population mean (μ): %f\\n\", mean_x))\n",
        "cat(sprintf(\"Population variance (σ²): %f\\n\\n\", variance))\n",
        "\n",
        "## Possible samples of size 2\n",
        "samples <- expand.grid(x1 = x, x2 = x)\n",
        "## Means of each sample\n",
        "samples$mean <- rowMeans(samples)\n",
        "## Probabilities of each sample\n",
        "samples$probability <- p_x[match(samples$x1, x)] * p_x[match(samples$x2, x)] * 100\n",
        "\n",
        "print(samples)\n"
      ],
      "metadata": {
        "colab": {
          "base_uri": "https://localhost:8080/"
        },
        "id": "QNv7JszfwDgw",
        "outputId": "dfd4f785-d7ec-471b-efd7-3b01e39bcd44"
      },
      "execution_count": null,
      "outputs": [
        {
          "output_type": "stream",
          "name": "stdout",
          "text": [
            "Population mean (μ): 12.000000\n",
            "Population variance (σ²): 10.800000\n",
            "\n",
            "   x1 x2 mean probability\n",
            "1   6  6  6.0           1\n",
            "2   9  6  7.5           2\n",
            "3  12  6  9.0           4\n",
            "4  15  6 10.5           2\n",
            "5  18  6 12.0           1\n",
            "6   6  9  7.5           2\n",
            "7   9  9  9.0           4\n",
            "8  12  9 10.5           8\n",
            "9  15  9 12.0           4\n",
            "10 18  9 13.5           2\n",
            "11  6 12  9.0           4\n",
            "12  9 12 10.5           8\n",
            "13 12 12 12.0          16\n",
            "14 15 12 13.5           8\n",
            "15 18 12 15.0           4\n",
            "16  6 15 10.5           2\n",
            "17  9 15 12.0           4\n",
            "18 12 15 13.5           8\n",
            "19 15 15 15.0           4\n",
            "20 18 15 16.5           2\n",
            "21  6 18 12.0           1\n",
            "22  9 18 13.5           2\n",
            "23 12 18 15.0           4\n",
            "24 15 18 16.5           2\n",
            "25 18 18 18.0           1\n"
          ]
        }
      ]
    }
  ]
}